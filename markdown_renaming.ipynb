{
 "cells": [
  {
   "cell_type": "code",
   "execution_count": null,
   "metadata": {},
   "outputs": [],
   "source": [
    "import os\n",
    "\"\"\"\n",
    "This function renames and moves markdown files within a specified root folder.\n",
    "Parameters:\n",
    "- root_folder (str): The path to the root folder where the markdown files are located.\n",
    "Returns:\n",
    "None\n",
    "The function iterates through all the files and directories within the root folder using os.walk().\n",
    "For each file, it checks if the file has a .md extension.\n",
    "If it does, the function constructs the old file path by joining the directory path and the filename.\n",
    "Then, it gets the relative path from the root folder to the current file using os.path.relpath().\n",
    "Next, it replaces the directory separators in the relative path with hyphens to create the new filename.\n",
    "The function constructs the new file path in the main folder by joining the root folder path and the new filename.\n",
    "Finally, it moves and renames the file using shutil.move() and prints the old and new file paths.\n",
    "Note: This function does not handle any exceptions that may occur during file operations.\n",
    "Written by GPT4o 8-20-2024\n",
    "\"\"\"\n",
    "import shutil\n",
    "\n",
    "\n",
    "\n",
    "def rename_and_move_markdown_files(root_folder):\n",
    "    for dirpath, dirnames, filenames in os.walk(root_folder):\n",
    "        for filename in filenames:\n",
    "            if filename.endswith('.md'):\n",
    "                # Construct the old file path\n",
    "                old_file_path = os.path.join(dirpath, filename)\n",
    "                \n",
    "                # Get the relative path from the root folder to the current file\n",
    "                relative_path = os.path.relpath(old_file_path, root_folder)\n",
    "                \n",
    "                # Replace directory separators with hyphens in the relative path\n",
    "                new_filename = relative_path.replace(os.sep, '-')\n",
    "                \n",
    "                # Construct the new file path in the main folder\n",
    "                new_file_path = os.path.join(root_folder, new_filename)\n",
    "                \n",
    "                # Move and rename the file\n",
    "                shutil.move(old_file_path, new_file_path)\n",
    "                print(f'Renamed and moved: {old_file_path} -> {new_file_path}')\n",
    "\n",
    "def remove_empty_dirs(root_folder):\n",
    "    for dirpath, dirnames, filenames in os.walk(root_folder, topdown=False):\n",
    "        if not dirnames and not filenames:\n",
    "            os.rmdir(dirpath)\n",
    "            print(f'Removed empty directory: {dirpath}')\n"
   ]
  },
  {
   "cell_type": "code",
   "execution_count": null,
   "metadata": {},
   "outputs": [],
   "source": [
    "# Specify the root folder\n",
    "root_folder = 'akamatsulab_discourse-graph_202408151235'\n",
    "\n",
    "# Call the function\n",
    "rename_and_move_markdown_files(root_folder)\n",
    "remove_empty_dirs(root_folder)"
   ]
  },
  {
   "cell_type": "code",
   "execution_count": null,
   "metadata": {},
   "outputs": [],
   "source": []
  }
 ],
 "metadata": {
  "kernelspec": {
   "display_name": "Python 3",
   "language": "python",
   "name": "python3"
  },
  "language_info": {
   "codemirror_mode": {
    "name": "ipython",
    "version": 3
   },
   "file_extension": ".py",
   "mimetype": "text/x-python",
   "name": "python",
   "nbconvert_exporter": "python",
   "pygments_lexer": "ipython3",
   "version": "3.12.1"
  }
 },
 "nbformat": 4,
 "nbformat_minor": 2
}
